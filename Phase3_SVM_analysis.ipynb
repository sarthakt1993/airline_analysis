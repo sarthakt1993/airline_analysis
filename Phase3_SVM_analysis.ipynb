{
 "cells": [
  {
   "cell_type": "code",
   "execution_count": 1,
   "metadata": {},
   "outputs": [
    {
     "name": "stderr",
     "output_type": "stream",
     "text": [
      "Loading required package: lattice\n",
      "Loading required package: ggplot2\n",
      "\n",
      "Attaching package: 'ggplot2'\n",
      "\n",
      "The following object is masked from 'package:kernlab':\n",
      "\n",
      "    alpha\n",
      "\n"
     ]
    }
   ],
   "source": [
    "library(caTools)\n",
    "library(kernlab)\n",
    "library(caret)\n",
    "library(e1071)"
   ]
  },
  {
   "cell_type": "code",
   "execution_count": 2,
   "metadata": {},
   "outputs": [],
   "source": [
    "data <- readRDS('data.rds')"
   ]
  },
  {
   "cell_type": "code",
   "execution_count": 3,
   "metadata": {},
   "outputs": [],
   "source": [
    "data$Customer.Satisfaction[data$Likelihood.to.recommend>7] <- \"High\"\n",
    "data$Customer.Satisfaction[data$Likelihood.to.recommend<=7 & data$Likelihood.to.recommend>4] <- \"Med\"\n",
    "data$Customer.Satisfaction[data$Likelihood.to.recommend<=4] <- \"Low\"\n",
    "data$Customer.Satisfaction <- factor(as.character(data$Customer.Satisfaction))"
   ]
  },
  {
   "cell_type": "code",
   "execution_count": 4,
   "metadata": {},
   "outputs": [],
   "source": [
    "data$Destination.City <- NULL\n",
    "data$Origin.City <- NULL\n",
    "data$Year.of.First.Flight <- NULL\n",
    "data$Partner.Code <- NULL\n",
    "data$Scheduled.Departure.Hour <- NULL\n",
    "data$olong <- NULL\n",
    "data$olat <- NULL\n",
    "data$dlong <- NULL\n",
    "data$dlat <- NULL\n",
    "data$Flight.date <- NULL\n",
    "data$Likelihood.to.recommend <- NULL\n",
    "data$Day.of.Month <- NULL"
   ]
  },
  {
   "cell_type": "code",
   "execution_count": 5,
   "metadata": {},
   "outputs": [
    {
     "name": "stdout",
     "output_type": "stream",
     "text": [
      "'data.frame':\t10268 obs. of  20 variables:\n",
      " $ Airline.Status                : Factor w/ 4 levels \"Blue\",\"Gold\",..: 1 4 4 1 1 1 1 1 1 1 ...\n",
      " $ Age                           : int  30 57 75 55 80 48 68 31 17 41 ...\n",
      " $ Gender                        : Factor w/ 2 levels \"F\",\"M\": 1 1 1 1 2 1 2 1 1 2 ...\n",
      " $ Price.Sensitivity             : int  3 1 3 1 0 2 1 1 2 1 ...\n",
      " $ Flights.Per.Year              : int  6 27 35 13 77 52 33 15 8 3 ...\n",
      " $ Loyalty                       : num  0.0769 -0.6875 -0.8421 -0.625 -0.9494 ...\n",
      " $ Type.of.Travel                : Factor w/ 3 levels \"Business travel\",..: 1 3 3 1 3 3 3 2 1 1 ...\n",
      " $ Total.Freq.Flyer.Accts        : int  0 0 0 0 0 0 0 2 1 0 ...\n",
      " $ Shopping.Amount.at.Airport    : int  15 0 0 10 0 0 0 10 30 0 ...\n",
      " $ Eating.and.Drinking.at.Airport: int  30 65 15 35 30 30 210 90 50 10 ...\n",
      " $ Class                         : Factor w/ 3 levels \"Business\",\"Eco\",..: 3 2 2 2 2 2 3 2 2 2 ...\n",
      " $ Partner.Name                  : Factor w/ 14 levels \"Cheapseats Airlines Inc.\",..: 12 8 5 10 12 4 13 5 1 1 ...\n",
      " $ Origin.State                  : Factor w/ 49 levels \"Alabama\",\"Alaska\",..: 22 5 27 17 9 34 32 46 20 5 ...\n",
      " $ Destination.State             : Factor w/ 49 levels \"Alabama\",\"Alaska\",..: 3 44 9 5 8 12 43 48 43 6 ...\n",
      " $ Departure.Delay.in.Minutes    : num  0 0 5 0 0 0 0 45 0 12 ...\n",
      " $ Arrival.Delay.in.Minutes      : num  0 2 0 0 0 13 0 53 5 4 ...\n",
      " $ Flight.cancelled              : Factor w/ 2 levels \"N\",\"Y\": 1 1 1 1 1 1 1 1 1 1 ...\n",
      " $ Flight.time.in.minutes        : num  165 85 191 257 54 72 145 107 253 122 ...\n",
      " $ Flight.Distance               : int  1276 532 1747 1911 404 315 912 634 1609 967 ...\n",
      " $ Customer.Satisfaction         : Factor w/ 3 levels \"High\",\"Low\",\"Med\": 3 3 1 1 2 2 2 1 1 1 ...\n"
     ]
    }
   ],
   "source": [
    "str(data)"
   ]
  },
  {
   "cell_type": "code",
   "execution_count": 6,
   "metadata": {},
   "outputs": [],
   "source": [
    "data1 <- sample.split(data,SplitRatio = 0.3)\n",
    "train <- subset(data,data1==FALSE)\n",
    "rownames(train) <- 1:nrow(train)\n",
    "test <- subset(data,data1==TRUE)\n",
    "row.names(test) <- 1:nrow(test)"
   ]
  },
  {
   "cell_type": "code",
   "execution_count": 7,
   "metadata": {},
   "outputs": [],
   "source": [
    "svm <- ksvm(Customer.Satisfaction ~ ., data = train,kernel='rbfdot',C=5,cross=3)"
   ]
  },
  {
   "cell_type": "code",
   "execution_count": 8,
   "metadata": {},
   "outputs": [],
   "source": [
    "svm_p <- predict(svm, test, type = \"response\")"
   ]
  },
  {
   "cell_type": "code",
   "execution_count": 9,
   "metadata": {},
   "outputs": [
    {
     "data": {
      "text/plain": [
       "Confusion Matrix and Statistics\n",
       "\n",
       "          Reference\n",
       "Prediction High  Low  Med\n",
       "      High 1507  101  370\n",
       "      Low    37  268  155\n",
       "      Med   176  131  337\n",
       "\n",
       "Overall Statistics\n",
       "                                          \n",
       "               Accuracy : 0.6853          \n",
       "                 95% CI : (0.6685, 0.7016)\n",
       "    No Information Rate : 0.5581          \n",
       "    P-Value [Acc > NIR] : < 2.2e-16       \n",
       "                                          \n",
       "                  Kappa : 0.4372          \n",
       "                                          \n",
       " Mcnemar's Test P-Value : < 2.2e-16       \n",
       "\n",
       "Statistics by Class:\n",
       "\n",
       "                     Class: High Class: Low Class: Med\n",
       "Sensitivity               0.8762    0.53600     0.3910\n",
       "Specificity               0.6542    0.92564     0.8617\n",
       "Pos Pred Value            0.7619    0.58261     0.5233\n",
       "Neg Pred Value            0.8071    0.91152     0.7847\n",
       "Prevalence                0.5581    0.16223     0.2797\n",
       "Detection Rate            0.4890    0.08696     0.1093\n",
       "Detection Prevalence      0.6418    0.14925     0.2090\n",
       "Balanced Accuracy         0.7652    0.73082     0.6263"
      ]
     },
     "metadata": {},
     "output_type": "display_data"
    }
   ],
   "source": [
    "confusionMatrix(svm_p,test$Customer.Satisfaction)"
   ]
  },
  {
   "cell_type": "code",
   "execution_count": 11,
   "metadata": {},
   "outputs": [],
   "source": [
    "#obj <- tune.svm(Customer.Satisfaction ~ ., data = train, gamma = 0.1, cost = c(3,4,5,6,7,8))"
   ]
  },
  {
   "cell_type": "code",
   "execution_count": 12,
   "metadata": {},
   "outputs": [],
   "source": [
    "#summary(obj)"
   ]
  }
 ],
 "metadata": {
  "kernelspec": {
   "display_name": "R",
   "language": "R",
   "name": "ir"
  },
  "language_info": {
   "codemirror_mode": "r",
   "file_extension": ".r",
   "mimetype": "text/x-r-source",
   "name": "R",
   "pygments_lexer": "r",
   "version": "3.6.1"
  }
 },
 "nbformat": 4,
 "nbformat_minor": 2
}
